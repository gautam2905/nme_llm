{
 "cells": [
  {
   "cell_type": "code",
   "execution_count": 4,
   "id": "a864f8e3",
   "metadata": {},
   "outputs": [
    {
     "name": "stdout",
     "output_type": "stream",
     "text": [
      "Defaulting to user installation because normal site-packages is not writeable\n",
      "Collecting en-core-web-sm==3.8.0\n",
      "  Downloading https://github.com/explosion/spacy-models/releases/download/en_core_web_sm-3.8.0/en_core_web_sm-3.8.0-py3-none-any.whl (12.8 MB)\n",
      "     ---------------------------------------- 0.0/12.8 MB ? eta -:--:--\n",
      "      --------------------------------------- 0.3/12.8 MB ? eta -:--:--\n",
      "     -- ------------------------------------- 0.8/12.8 MB 1.9 MB/s eta 0:00:07\n",
      "     --- ------------------------------------ 1.0/12.8 MB 2.0 MB/s eta 0:00:06\n",
      "     ----- ---------------------------------- 1.8/12.8 MB 2.3 MB/s eta 0:00:05\n",
      "     ------- -------------------------------- 2.4/12.8 MB 2.4 MB/s eta 0:00:05\n",
      "     --------- ------------------------------ 2.9/12.8 MB 2.5 MB/s eta 0:00:04\n",
      "     ---------- ----------------------------- 3.4/12.8 MB 2.6 MB/s eta 0:00:04\n",
      "     ------------- -------------------------- 4.2/12.8 MB 2.6 MB/s eta 0:00:04\n",
      "     ------------- -------------------------- 4.5/12.8 MB 2.6 MB/s eta 0:00:04\n",
      "     ---------------- ----------------------- 5.2/12.8 MB 2.7 MB/s eta 0:00:03\n",
      "     ------------------ --------------------- 5.8/12.8 MB 2.7 MB/s eta 0:00:03\n",
      "     -------------------- ------------------- 6.6/12.8 MB 2.7 MB/s eta 0:00:03\n",
      "     ---------------------- ----------------- 7.1/12.8 MB 2.8 MB/s eta 0:00:03\n",
      "     ----------------------- ---------------- 7.6/12.8 MB 2.7 MB/s eta 0:00:02\n",
      "     ------------------------- -------------- 8.1/12.8 MB 2.8 MB/s eta 0:00:02\n",
      "     --------------------------- ------------ 8.7/12.8 MB 2.7 MB/s eta 0:00:02\n",
      "     ---------------------------- ----------- 9.2/12.8 MB 2.7 MB/s eta 0:00:02\n",
      "     ----------------------------- ---------- 9.4/12.8 MB 2.7 MB/s eta 0:00:02\n",
      "     ------------------------------- -------- 10.0/12.8 MB 2.6 MB/s eta 0:00:02\n",
      "     ------------------------------- -------- 10.2/12.8 MB 2.5 MB/s eta 0:00:02\n",
      "     --------------------------------- ------ 10.7/12.8 MB 2.6 MB/s eta 0:00:01\n",
      "     ---------------------------------- ----- 11.0/12.8 MB 2.5 MB/s eta 0:00:01\n",
      "     ------------------------------------ --- 11.5/12.8 MB 2.5 MB/s eta 0:00:01\n",
      "     ------------------------------------ --- 11.8/12.8 MB 2.4 MB/s eta 0:00:01\n",
      "     -------------------------------------- - 12.3/12.8 MB 2.4 MB/s eta 0:00:01\n",
      "     ---------------------------------------- 12.8/12.8 MB 2.4 MB/s eta 0:00:00\n",
      "Installing collected packages: en-core-web-sm\n",
      "Successfully installed en-core-web-sm-3.8.0\n",
      "\u001b[38;5;2m✔ Download and installation successful\u001b[0m\n",
      "You can now load the package via spacy.load('en_core_web_sm')\n"
     ]
    }
   ],
   "source": [
    "# !pip install spacy\n",
    "!python -m spacy download en_core_web_sm"
   ]
  },
  {
   "cell_type": "code",
   "execution_count": null,
   "id": "e9467900",
   "metadata": {},
   "outputs": [
    {
     "name": "stdout",
     "output_type": "stream",
     "text": [
      "(John Smith, OpenAI, San Francisco)\n",
      "John Smith PERSON\n",
      "[{'text': 'John Smith', 'label': 'PERSON'}, {'text': 'OpenAI', 'label': 'GPE'}, {'text': 'San Francisco', 'label': 'GPE'}]\n"
     ]
    }
   ],
   "source": [
    "import spacy\n",
    "\n",
    "# Load the spaCy model once when the application starts\n",
    "# This is more efficient than loading it in the request function\n",
    "nlp = spacy.load(\"en_core_web_sm\")\n",
    "\n",
    "\n",
    "doc = nlp(\"John Smith is a software engineer at OpenAI. He lives in San Francisco.\")\n",
    "\n",
    "entities = [{\"text\": ent.text, \"label\": ent.label_} for ent in doc.ents]\n",
    "\n",
    "print(doc.ents)\n",
    "print(doc.ents[0].text, doc.ents[0].label_)\n",
    "print(entities)"
   ]
  },
  {
   "cell_type": "code",
   "execution_count": null,
   "id": "211afbd0",
   "metadata": {},
   "outputs": [],
   "source": []
  },
  {
   "cell_type": "code",
   "execution_count": null,
   "id": "76358ed5",
   "metadata": {},
   "outputs": [],
   "source": []
  }
 ],
 "metadata": {
  "kernelspec": {
   "display_name": "border",
   "language": "python",
   "name": "python3"
  },
  "language_info": {
   "codemirror_mode": {
    "name": "ipython",
    "version": 3
   },
   "file_extension": ".py",
   "mimetype": "text/x-python",
   "name": "python",
   "nbconvert_exporter": "python",
   "pygments_lexer": "ipython3",
   "version": "3.13.2"
  }
 },
 "nbformat": 4,
 "nbformat_minor": 5
}
